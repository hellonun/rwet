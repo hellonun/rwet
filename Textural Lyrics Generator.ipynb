{
 "cells": [
  {
   "cell_type": "code",
   "execution_count": 41,
   "metadata": {},
   "outputs": [
    {
     "name": "stdout",
     "output_type": "stream",
     "text": [
      "Requirement already satisfied: tracery in /anaconda3/lib/python3.7/site-packages (0.1.1)\r\n"
     ]
    }
   ],
   "source": [
    "!pip install tracery"
   ]
  },
  {
   "cell_type": "code",
   "execution_count": 42,
   "metadata": {},
   "outputs": [],
   "source": [
    "import tracery"
   ]
  },
  {
   "cell_type": "code",
   "execution_count": 43,
   "metadata": {},
   "outputs": [],
   "source": [
    "from tracery.modifiers import base_english"
   ]
  },
  {
   "cell_type": "code",
   "execution_count": 191,
   "metadata": {
    "scrolled": true
   },
   "outputs": [
    {
     "name": "stdout",
     "output_type": "stream",
     "text": [
      "\n",
      "\n",
      "\n",
      "FLUME\n",
      "\n",
      "\n",
      "I move in water, shore to shore;\n",
      "tail on\n",
      "I move in water, shore to shore;\n",
      "nothing’s more.\n",
      "take all on the wind on\n",
      "\n",
      "\n",
      "cause blinded I was blindsided\n",
      "the end of a blood line... the moon is a cold light\n",
      "him: “for every life...”\n",
      "\n",
      "\n",
      "leaving rope burns— her:\n",
      "\n",
      "\n",
      ".\n",
      "Original text by Justin Vernon\n"
     ]
    }
   ],
   "source": [
    "import random\n",
    "groups = [\"#un#\",\n",
    "\"#ow#\",\n",
    "\"#oon#\",\n",
    "\"#or#\",\n",
    "\"#ern#\",\n",
    "\"#aown#\",\n",
    "\"#eye#\",\n",
    "\"#een#\",\n",
    "\"#ear#\"]\n",
    "   \n",
    "songs = ['Flume', 'Blindsided', 'Creature Fear', 'For Emma']\n",
    "songs = random.choice(songs)\n",
    "print (\"\\n\" + \"\\n\" + \"\\n\" + songs.upper() + \"\\n\" + \"\\n\")\n",
    "\n",
    "verses = random.randrange(3,6)\n",
    "\n",
    "for i in range(verses):     \n",
    "    r = random.choice(groups)\n",
    "    lines = random.randrange(1,6)\n",
    "    for i in range(lines):   \n",
    "        rules = {\n",
    "        \"lyrics\": [r],\n",
    "\n",
    "        \"un\": [\"I am my mother’s only one\", \"it’s enough.\", \"dont let it form us\", \"dont let it form us\", \"so many for us\", \"(so relatively fucked)\", \"so ready for us\", \"so ready for us,\", \"so many torahs\",],\n",
    "        \"ow\": [\"I wear my garment so it shows\", \"now you know.\",\"I crouch like a crow\",\"contrasting the snow\",\"for the agony, I’d rather know\",\"I cup the window\",\"I’m crippled and slow\",\"I’d rather know\",\"there’s a pull to the flow\",\"my feet melt the snow\",\"for the irony, I’d rather know\",\"soft bloody nose\",\"I was loud by your lowered\",\"seminary sold\",\"so many foreign worlds\",\"so did he foil ‘is own?\",\"“with all your lies, you’re still very loveable.”\",\"“I toured the light; so many foreign roads for Emma, forever ago.”\",\"her: ”...my knees are cold.”\",\"running home, running home,\",\"running home, running home...\",\"so apropos:\",],\n",
    "        \"oon\": [\"only love is all maroon\",\"gluey feathers on a flume\",\"sky is womb and she’s the moon\",\"only love is all maroon\",\"lapping lakes like leery loons\",\"only love is all maroon\",\"gluey feathers on a flume\",\"sky is womb and she’s the moon\",\"reddish ruse\",\"I was lost but your fool\",],\n",
    "        \"or\": [\"I am my mother on the wall, with us all.\",\"I move in water, shore to shore;\",\"nothing’s more.\",\"tear on\",\"tail on\",\"take all on the wind on\",\"sign another floor...\",\"ready to reform\",\"is he ready to reform?\",\"was a long visit wrong?\",\"narrator:\",\"“go find another lover; to bring a... to string along!”\",],\n",
    "        \"ern\": [\"leaving rope burns— her:\",\"her: “forgo the parable.”\",],\n",
    "        \"aown\": [\"bike down... down to the downtown\",\"down to the lockdown... boards, nails lie around\",\"would you really rush out for me now?\",\"teased by your blouse\",\"spit out by your mouth\",\"I was full by your count\",],\n",
    "        \"eye\": [\"cause blinded I am blindsided\",\"cause blinded I am blindsided\",\"cause blinded I was blindsided\",\"cause blinded I was blindsided\",\"cause blinded I was blindsided\",\"I’m not really like this... I’m probably plight-less\",\"taught line... down to the shoreline\",\"the end of a blood line... the moon is a cold light\",\"him: “seek the light.”\",\"him: “for every life...”\",],\n",
    "        \"een\": [\"peek in... into the peer in\",\"for the agony\",\"say you are the only.\",\"the so many territories\",],\n",
    "        \"ear\": [\"the creature fear\",\"the creature fear\",\"the creature fear\",\"the creature fear\",],\n",
    "\n",
    "        }\n",
    "        grammar = tracery.Grammar(rules)\n",
    "        grammar.add_modifiers(base_english)\n",
    "        print(grammar.flatten(\"#lyrics#\"))\n",
    "        \n",
    "    print (\"\\n\")\n",
    "print (\".\"+ \"\\n\"+ \"Original text by Justin Vernon\")"
   ]
  },
  {
   "cell_type": "code",
   "execution_count": null,
   "metadata": {},
   "outputs": [],
   "source": []
  }
 ],
 "metadata": {
  "kernelspec": {
   "display_name": "Python 3",
   "language": "python",
   "name": "python3"
  },
  "language_info": {
   "codemirror_mode": {
    "name": "ipython",
    "version": 3
   },
   "file_extension": ".py",
   "mimetype": "text/x-python",
   "name": "python",
   "nbconvert_exporter": "python",
   "pygments_lexer": "ipython3",
   "version": "3.7.1"
  }
 },
 "nbformat": 4,
 "nbformat_minor": 2
}
